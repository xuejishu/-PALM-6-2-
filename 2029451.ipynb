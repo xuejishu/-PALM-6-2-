{
 "cells": [
  {
   "cell_type": "markdown",
   "metadata": {
    "collapsed": false
   },
   "source": [
    "# 飞桨常规赛：PALM病理性近视预测 6月第3名方案\n",
    "【常规赛：PALM病理性近视预测】方案\n",
    "**比赛地址： [https://aistudio.baidu.com/aistudio/competition/detail/85](https://aistudio.baidu.com/aistudio/competition/detail/85)**\n",
    "\n",
    "\n",
    "\n",
    "\n",
    "# 一、赛题介绍\n",
    "## 1. 赛题简介\n",
    "PALM病理性近视预测常规赛的重点是研究和发展与病理性近视诊断相关的算法。该常规赛的目标是评估和比较在一个常见的视网膜眼底图像数据集上检测病理性近视的自动算法。具体任务是将提供的图像分为病理性近视眼底彩照和非病理性近视眼底彩照，其中，非病理性近视眼底彩照包括正常眼底和高度近视眼底彩照。\n",
    "\n",
    " ![](https://ai.bdstatic.com/file/EB6E1DA97ECE4AE79697FD6F6A25F679)\n",
    "\n",
    "## 2.数据简介\n",
    "PALM病理性近视预测常规赛由中山大学中山眼科中心提供800张带病理性近视分类标注的眼底彩照供选手训练模型，另提供400张带标注数据供平台进行模型测试。\n",
    "\n",
    "## 3. 数据说明\n",
    "本次常规赛提供的病理性近视分类金标准是从临床报告中获取，不仅基于眼底彩照，还结合了OCT、视野检查等结果。\n",
    "\n",
    "## 4. 训练数据集\n",
    "文件名称：Train\n",
    "Train文件夹里有一个fundus_image文件夹和一个Classification.xlsx文件。fundus_image文件夹中数据均为眼底彩照，分辨率为1444×1444，或2124×2056。命名形如N0001.jpg、H0001.jpg、P0001.jpg和V0001.jpg。Classification.xlsx文件中为各眼底图像是否属于病理性近视，属于为1，不属于为0。\n",
    "\n",
    "## 5.测试数据集\n",
    "文件名称：PALM-Testing400-Images 文件夹里包含400张眼底彩照，命名形如T0001.jpg。\n",
    "\n",
    "## 6.提交内容及格式\n",
    "分类结果应在一个名为“Classification_Results.csv”的CSV文件中提供，第一列对应测试眼底图像的文件名(包括扩展名“.jpg”)，对应title为FileName；第二列包含诊断为PM的患者图像的分类预测概率(值从0.0到1.0)，对应title为PM Risk。示例如下：\n",
    "\n",
    "![](https://ai.bdstatic.com/file/9B4E52D17D184A0893853C7A3A726BFA)"
   ]
  },
  {
   "cell_type": "markdown",
   "metadata": {
    "collapsed": false
   },
   "source": [
    "# 二、数据处理"
   ]
  },
  {
   "cell_type": "markdown",
   "metadata": {
    "collapsed": false
   },
   "source": [
    "## 1.数据初步处理\n",
    "* 解压缩\n",
    "* 重命名文件夹\n",
    "* 删除临时文件夹"
   ]
  },
  {
   "cell_type": "code",
   "execution_count": 3,
   "metadata": {
    "collapsed": false
   },
   "outputs": [],
   "source": [
    "!unzip -qao data/data85133/常规赛：PALM病理性近视预测.zip"
   ]
  },
  {
   "cell_type": "code",
   "execution_count": 4,
   "metadata": {
    "collapsed": false
   },
   "outputs": [],
   "source": [
    "!mv '常规赛：PALM病理性近视预测' dataset"
   ]
  },
  {
   "cell_type": "code",
   "execution_count": 5,
   "metadata": {
    "collapsed": false
   },
   "outputs": [],
   "source": [
    "!rm __MACOSX/ -rf"
   ]
  },
  {
   "cell_type": "markdown",
   "metadata": {
    "collapsed": false
   },
   "source": [
    "## 2.划分训练集和测试集"
   ]
  },
  {
   "cell_type": "code",
   "execution_count": 6,
   "metadata": {
    "collapsed": false
   },
   "outputs": [],
   "source": [
    "# 划分训练集和测试集\r\n",
    "\r\n",
    "import pandas as pd\r\n",
    "import random\r\n",
    "\r\n",
    "\r\n",
    "\r\n",
    "train_excel_file = 'dataset/Train/Classification.xlsx'\r\n",
    "pd_list=pd.read_excel(train_excel_file)\r\n",
    "\r\n",
    "pd_list_lenght=len(pd_list)\r\n",
    "# 乱序\r\n",
    "pd_list=pd_list.sample(frac=1)\r\n",
    "offset=int(pd_list_lenght*0.9)\r\n",
    "trian_list=pd_list[:offset]\r\n",
    "eval_list=pd_list[offset:]\r\n",
    "trian_list.to_csv(\"train_list.txt\", index=None, header=None, sep=' ')\r\n",
    "eval_list.to_csv(\"eval_list.txt\", index=None, header=None, sep=' ')\r\n"
   ]
  },
  {
   "cell_type": "markdown",
   "metadata": {
    "collapsed": false
   },
   "source": [
    "# 三、PaddleX配置"
   ]
  },
  {
   "cell_type": "markdown",
   "metadata": {
    "collapsed": false
   },
   "source": [
    "## 1.paddlex安装"
   ]
  },
  {
   "cell_type": "code",
   "execution_count": 1,
   "metadata": {
    "collapsed": false
   },
   "outputs": [
    {
     "name": "stdout",
     "output_type": "stream",
     "text": [
      "Looking in indexes: https://mirror.baidu.com/pypi/simple\n",
      "Collecting paddlex\n",
      "\u001b[?25l  Downloading https://mirror.baidu.com/pypi/packages/d6/a2/07435f4aa1e51fe22bdf06c95d03bf1b78b7bc6625adbb51e35dc0804cc7/paddlex-1.3.11-py3-none-any.whl (516kB)\n",
      "\u001b[K     |████████████████████████████████| 522kB 12.9MB/s eta 0:00:01\n",
      "\u001b[?25hCollecting xlwt (from paddlex)\n",
      "\u001b[?25l  Downloading https://mirror.baidu.com/pypi/packages/44/48/def306413b25c3d01753603b1a222a011b8621aed27cd7f89cbc27e6b0f4/xlwt-1.3.0-py2.py3-none-any.whl (99kB)\n",
      "\u001b[K     |████████████████████████████████| 102kB 24.5MB/s ta 0:00:01\n",
      "\u001b[?25hCollecting paddleslim==1.1.1 (from paddlex)\n",
      "\u001b[?25l  Downloading https://mirror.baidu.com/pypi/packages/d1/77/e257227bed9a70ff0d35a4a3c4e70ac2d2362c803834c4c52018f7c4b762/paddleslim-1.1.1-py2.py3-none-any.whl (145kB)\n",
      "\u001b[K     |████████████████████████████████| 153kB 24.8MB/s eta 0:00:01\n",
      "\u001b[?25hRequirement already satisfied: visualdl>=2.0.0 in /opt/conda/envs/python35-paddle120-env/lib/python3.7/site-packages (from paddlex) (2.1.1)\n",
      "Requirement already satisfied: colorama in /opt/conda/envs/python35-paddle120-env/lib/python3.7/site-packages (from paddlex) (0.4.4)\n",
      "Requirement already satisfied: psutil in /opt/conda/envs/python35-paddle120-env/lib/python3.7/site-packages (from paddlex) (5.7.2)\n",
      "Requirement already satisfied: pyyaml in /opt/conda/envs/python35-paddle120-env/lib/python3.7/site-packages (from paddlex) (5.1.2)\n",
      "Requirement already satisfied: tqdm in /opt/conda/envs/python35-paddle120-env/lib/python3.7/site-packages (from paddlex) (4.36.1)\n",
      "Collecting paddlehub==2.1.0 (from paddlex)\n",
      "\u001b[?25l  Downloading https://mirror.baidu.com/pypi/packages/7a/29/3bd0ca43c787181e9c22fe44b944b64d7fcb14ce66d3bf4602d9ad2ac76c/paddlehub-2.1.0-py3-none-any.whl (211kB)\n",
      "\u001b[K     |████████████████████████████████| 215kB 26.9MB/s eta 0:00:01\n",
      "\u001b[?25hCollecting shapely>=1.7.0 (from paddlex)\n",
      "\u001b[?25l  Downloading https://mirror.baidu.com/pypi/packages/98/f8/db4d3426a1aba9d5dfcc83ed5a3e2935d2b1deb73d350642931791a61c37/Shapely-1.7.1-cp37-cp37m-manylinux1_x86_64.whl (1.0MB)\n",
      "\u001b[K     |████████████████████████████████| 1.0MB 15.0MB/s eta 0:00:01\n",
      "\u001b[?25hRequirement already satisfied: opencv-python in /opt/conda/envs/python35-paddle120-env/lib/python3.7/site-packages (from paddlex) (4.1.1.26)\n",
      "Requirement already satisfied: flask-cors in /opt/conda/envs/python35-paddle120-env/lib/python3.7/site-packages (from paddlex) (3.0.8)\n",
      "Collecting pycocotools; platform_system != \"Windows\" (from paddlex)\n",
      "  Downloading https://mirror.baidu.com/pypi/packages/de/df/056875d697c45182ed6d2ae21f62015896fdb841906fe48e7268e791c467/pycocotools-2.0.2.tar.gz\n",
      "Requirement already satisfied: sklearn in /opt/conda/envs/python35-paddle120-env/lib/python3.7/site-packages (from paddlex) (0.0)\n",
      "Requirement already satisfied: pyzmq in /opt/conda/envs/python35-paddle120-env/lib/python3.7/site-packages (from paddleslim==1.1.1->paddlex) (18.1.1)\n",
      "Requirement already satisfied: numpy in /opt/conda/envs/python35-paddle120-env/lib/python3.7/site-packages (from visualdl>=2.0.0->paddlex) (1.20.3)\n",
      "Requirement already satisfied: Pillow>=7.0.0 in /opt/conda/envs/python35-paddle120-env/lib/python3.7/site-packages (from visualdl>=2.0.0->paddlex) (7.1.2)\n",
      "Requirement already satisfied: six>=1.14.0 in /opt/conda/envs/python35-paddle120-env/lib/python3.7/site-packages (from visualdl>=2.0.0->paddlex) (1.15.0)\n",
      "Requirement already satisfied: protobuf>=3.11.0 in /opt/conda/envs/python35-paddle120-env/lib/python3.7/site-packages (from visualdl>=2.0.0->paddlex) (3.14.0)\n",
      "Requirement already satisfied: flake8>=3.7.9 in /opt/conda/envs/python35-paddle120-env/lib/python3.7/site-packages (from visualdl>=2.0.0->paddlex) (3.8.2)\n",
      "Requirement already satisfied: bce-python-sdk in /opt/conda/envs/python35-paddle120-env/lib/python3.7/site-packages (from visualdl>=2.0.0->paddlex) (0.8.53)\n",
      "Requirement already satisfied: flask>=1.1.1 in /opt/conda/envs/python35-paddle120-env/lib/python3.7/site-packages (from visualdl>=2.0.0->paddlex) (1.1.1)\n",
      "Requirement already satisfied: pre-commit in /opt/conda/envs/python35-paddle120-env/lib/python3.7/site-packages (from visualdl>=2.0.0->paddlex) (1.21.0)\n",
      "Requirement already satisfied: shellcheck-py in /opt/conda/envs/python35-paddle120-env/lib/python3.7/site-packages (from visualdl>=2.0.0->paddlex) (0.7.1.1)\n",
      "Requirement already satisfied: requests in /opt/conda/envs/python35-paddle120-env/lib/python3.7/site-packages (from visualdl>=2.0.0->paddlex) (2.22.0)\n",
      "Requirement already satisfied: Flask-Babel>=1.0.0 in /opt/conda/envs/python35-paddle120-env/lib/python3.7/site-packages (from visualdl>=2.0.0->paddlex) (1.0.0)\n",
      "Requirement already satisfied: gunicorn>=19.10.0; sys_platform != \"win32\" in /opt/conda/envs/python35-paddle120-env/lib/python3.7/site-packages (from paddlehub==2.1.0->paddlex) (20.0.4)\n",
      "Requirement already satisfied: rarfile in /opt/conda/envs/python35-paddle120-env/lib/python3.7/site-packages (from paddlehub==2.1.0->paddlex) (3.1)\n",
      "Requirement already satisfied: colorlog in /opt/conda/envs/python35-paddle120-env/lib/python3.7/site-packages (from paddlehub==2.1.0->paddlex) (4.1.0)\n",
      "Requirement already satisfied: paddlenlp>=2.0.0rc5 in /opt/conda/envs/python35-paddle120-env/lib/python3.7/site-packages (from paddlehub==2.1.0->paddlex) (2.0.0rc7)\n",
      "Collecting paddle2onnx>=0.5.1 (from paddlehub==2.1.0->paddlex)\n",
      "\u001b[?25l  Downloading https://mirror.baidu.com/pypi/packages/e7/cf/ca3220acff28023e8967f720271411e109b37624b73b34729ce2c2fe72ad/paddle2onnx-0.6-py3-none-any.whl (94kB)\n",
      "\u001b[K     |████████████████████████████████| 102kB 18.8MB/s ta 0:00:01\n",
      "\u001b[?25hRequirement already satisfied: matplotlib in /opt/conda/envs/python35-paddle120-env/lib/python3.7/site-packages (from paddlehub==2.1.0->paddlex) (2.2.3)\n",
      "Requirement already satisfied: easydict in /opt/conda/envs/python35-paddle120-env/lib/python3.7/site-packages (from paddlehub==2.1.0->paddlex) (1.9)\n",
      "Requirement already satisfied: gitpython in /opt/conda/envs/python35-paddle120-env/lib/python3.7/site-packages (from paddlehub==2.1.0->paddlex) (3.1.14)\n",
      "Requirement already satisfied: filelock in /opt/conda/envs/python35-paddle120-env/lib/python3.7/site-packages (from paddlehub==2.1.0->paddlex) (3.0.12)\n",
      "Requirement already satisfied: packaging in /opt/conda/envs/python35-paddle120-env/lib/python3.7/site-packages (from paddlehub==2.1.0->paddlex) (20.9)\n",
      "Requirement already satisfied: setuptools>=18.0 in /opt/conda/envs/python35-paddle120-env/lib/python3.7/site-packages (from pycocotools; platform_system != \"Windows\"->paddlex) (56.2.0)\n",
      "Requirement already satisfied: cython>=0.27.3 in /opt/conda/envs/python35-paddle120-env/lib/python3.7/site-packages (from pycocotools; platform_system != \"Windows\"->paddlex) (0.29)\n",
      "Requirement already satisfied: scikit-learn in /opt/conda/envs/python35-paddle120-env/lib/python3.7/site-packages (from sklearn->paddlex) (0.24.2)\n",
      "Requirement already satisfied: mccabe<0.7.0,>=0.6.0 in /opt/conda/envs/python35-paddle120-env/lib/python3.7/site-packages (from flake8>=3.7.9->visualdl>=2.0.0->paddlex) (0.6.1)\n",
      "Requirement already satisfied: pycodestyle<2.7.0,>=2.6.0a1 in /opt/conda/envs/python35-paddle120-env/lib/python3.7/site-packages (from flake8>=3.7.9->visualdl>=2.0.0->paddlex) (2.6.0)\n",
      "Requirement already satisfied: importlib-metadata; python_version < \"3.8\" in /opt/conda/envs/python35-paddle120-env/lib/python3.7/site-packages (from flake8>=3.7.9->visualdl>=2.0.0->paddlex) (0.23)\n",
      "Requirement already satisfied: pyflakes<2.3.0,>=2.2.0 in /opt/conda/envs/python35-paddle120-env/lib/python3.7/site-packages (from flake8>=3.7.9->visualdl>=2.0.0->paddlex) (2.2.0)\n",
      "Requirement already satisfied: future>=0.6.0 in /opt/conda/envs/python35-paddle120-env/lib/python3.7/site-packages (from bce-python-sdk->visualdl>=2.0.0->paddlex) (0.18.0)\n",
      "Requirement already satisfied: pycryptodome>=3.8.0 in /opt/conda/envs/python35-paddle120-env/lib/python3.7/site-packages (from bce-python-sdk->visualdl>=2.0.0->paddlex) (3.9.9)\n",
      "Requirement already satisfied: click>=5.1 in /opt/conda/envs/python35-paddle120-env/lib/python3.7/site-packages (from flask>=1.1.1->visualdl>=2.0.0->paddlex) (7.0)\n",
      "Requirement already satisfied: itsdangerous>=0.24 in /opt/conda/envs/python35-paddle120-env/lib/python3.7/site-packages (from flask>=1.1.1->visualdl>=2.0.0->paddlex) (1.1.0)\n",
      "Requirement already satisfied: Jinja2>=2.10.1 in /opt/conda/envs/python35-paddle120-env/lib/python3.7/site-packages (from flask>=1.1.1->visualdl>=2.0.0->paddlex) (2.10.1)\n",
      "Requirement already satisfied: Werkzeug>=0.15 in /opt/conda/envs/python35-paddle120-env/lib/python3.7/site-packages (from flask>=1.1.1->visualdl>=2.0.0->paddlex) (0.16.0)\n",
      "Requirement already satisfied: aspy.yaml in /opt/conda/envs/python35-paddle120-env/lib/python3.7/site-packages (from pre-commit->visualdl>=2.0.0->paddlex) (1.3.0)\n",
      "Requirement already satisfied: toml in /opt/conda/envs/python35-paddle120-env/lib/python3.7/site-packages (from pre-commit->visualdl>=2.0.0->paddlex) (0.10.0)\n",
      "Requirement already satisfied: nodeenv>=0.11.1 in /opt/conda/envs/python35-paddle120-env/lib/python3.7/site-packages (from pre-commit->visualdl>=2.0.0->paddlex) (1.3.4)\n",
      "Requirement already satisfied: virtualenv>=15.2 in /opt/conda/envs/python35-paddle120-env/lib/python3.7/site-packages (from pre-commit->visualdl>=2.0.0->paddlex) (16.7.9)\n",
      "Requirement already satisfied: cfgv>=2.0.0 in /opt/conda/envs/python35-paddle120-env/lib/python3.7/site-packages (from pre-commit->visualdl>=2.0.0->paddlex) (2.0.1)\n",
      "Requirement already satisfied: identify>=1.0.0 in /opt/conda/envs/python35-paddle120-env/lib/python3.7/site-packages (from pre-commit->visualdl>=2.0.0->paddlex) (1.4.10)\n",
      "Requirement already satisfied: certifi>=2017.4.17 in /opt/conda/envs/python35-paddle120-env/lib/python3.7/site-packages (from requests->visualdl>=2.0.0->paddlex) (2019.9.11)\n",
      "Requirement already satisfied: urllib3!=1.25.0,!=1.25.1,<1.26,>=1.21.1 in /opt/conda/envs/python35-paddle120-env/lib/python3.7/site-packages (from requests->visualdl>=2.0.0->paddlex) (1.25.6)\n",
      "Requirement already satisfied: chardet<3.1.0,>=3.0.2 in /opt/conda/envs/python35-paddle120-env/lib/python3.7/site-packages (from requests->visualdl>=2.0.0->paddlex) (3.0.4)\n",
      "Requirement already satisfied: idna<2.9,>=2.5 in /opt/conda/envs/python35-paddle120-env/lib/python3.7/site-packages (from requests->visualdl>=2.0.0->paddlex) (2.8)\n",
      "Requirement already satisfied: Babel>=2.3 in /opt/conda/envs/python35-paddle120-env/lib/python3.7/site-packages (from Flask-Babel>=1.0.0->visualdl>=2.0.0->paddlex) (2.8.0)\n",
      "Requirement already satisfied: pytz in /opt/conda/envs/python35-paddle120-env/lib/python3.7/site-packages (from Flask-Babel>=1.0.0->visualdl>=2.0.0->paddlex) (2019.3)\n",
      "Requirement already satisfied: h5py in /opt/conda/envs/python35-paddle120-env/lib/python3.7/site-packages (from paddlenlp>=2.0.0rc5->paddlehub==2.1.0->paddlex) (2.9.0)\n",
      "Requirement already satisfied: seqeval in /opt/conda/envs/python35-paddle120-env/lib/python3.7/site-packages (from paddlenlp>=2.0.0rc5->paddlehub==2.1.0->paddlex) (1.2.2)\n",
      "Requirement already satisfied: jieba in /opt/conda/envs/python35-paddle120-env/lib/python3.7/site-packages (from paddlenlp>=2.0.0rc5->paddlehub==2.1.0->paddlex) (0.42.1)\n",
      "Requirement already satisfied: pyparsing!=2.0.4,!=2.1.2,!=2.1.6,>=2.0.1 in /opt/conda/envs/python35-paddle120-env/lib/python3.7/site-packages (from matplotlib->paddlehub==2.1.0->paddlex) (2.4.2)\n",
      "Requirement already satisfied: cycler>=0.10 in /opt/conda/envs/python35-paddle120-env/lib/python3.7/site-packages (from matplotlib->paddlehub==2.1.0->paddlex) (0.10.0)\n",
      "Requirement already satisfied: kiwisolver>=1.0.1 in /opt/conda/envs/python35-paddle120-env/lib/python3.7/site-packages (from matplotlib->paddlehub==2.1.0->paddlex) (1.1.0)\n",
      "Requirement already satisfied: python-dateutil>=2.1 in /opt/conda/envs/python35-paddle120-env/lib/python3.7/site-packages (from matplotlib->paddlehub==2.1.0->paddlex) (2.8.0)\n",
      "Requirement already satisfied: gitdb<5,>=4.0.1 in /opt/conda/envs/python35-paddle120-env/lib/python3.7/site-packages (from gitpython->paddlehub==2.1.0->paddlex) (4.0.5)\n",
      "Requirement already satisfied: threadpoolctl>=2.0.0 in /opt/conda/envs/python35-paddle120-env/lib/python3.7/site-packages (from scikit-learn->sklearn->paddlex) (2.1.0)\n",
      "Requirement already satisfied: joblib>=0.11 in /opt/conda/envs/python35-paddle120-env/lib/python3.7/site-packages (from scikit-learn->sklearn->paddlex) (0.14.1)\n",
      "Requirement already satisfied: scipy>=0.19.1 in /opt/conda/envs/python35-paddle120-env/lib/python3.7/site-packages (from scikit-learn->sklearn->paddlex) (1.6.3)\n",
      "Requirement already satisfied: zipp>=0.5 in /opt/conda/envs/python35-paddle120-env/lib/python3.7/site-packages (from importlib-metadata; python_version < \"3.8\"->flake8>=3.7.9->visualdl>=2.0.0->paddlex) (0.6.0)\n",
      "Requirement already satisfied: MarkupSafe>=0.23 in /opt/conda/envs/python35-paddle120-env/lib/python3.7/site-packages (from Jinja2>=2.10.1->flask>=1.1.1->visualdl>=2.0.0->paddlex) (1.1.1)\n",
      "Requirement already satisfied: smmap<4,>=3.0.1 in /opt/conda/envs/python35-paddle120-env/lib/python3.7/site-packages (from gitdb<5,>=4.0.1->gitpython->paddlehub==2.1.0->paddlex) (3.0.5)\n",
      "Requirement already satisfied: more-itertools in /opt/conda/envs/python35-paddle120-env/lib/python3.7/site-packages (from zipp>=0.5->importlib-metadata; python_version < \"3.8\"->flake8>=3.7.9->visualdl>=2.0.0->paddlex) (7.2.0)\n",
      "Building wheels for collected packages: pycocotools\n",
      "  Building wheel for pycocotools (setup.py) ... \u001b[?25ldone\n",
      "\u001b[?25h  Created wheel for pycocotools: filename=pycocotools-2.0.2-cp37-cp37m-linux_x86_64.whl size=278356 sha256=f01c03b6cc4d6e542ae0cdb80bb10710239fb4ee5826c215aaa4b6f333c30c24\n",
      "  Stored in directory: /home/aistudio/.cache/pip/wheels/fb/44/67/8baa69040569b1edbd7776ec6f82c387663e724908aaa60963\n",
      "Successfully built pycocotools\n",
      "Installing collected packages: xlwt, paddleslim, paddle2onnx, paddlehub, shapely, pycocotools, paddlex\n",
      "  Found existing installation: paddlehub 2.0.4\n",
      "    Uninstalling paddlehub-2.0.4:\n",
      "      Successfully uninstalled paddlehub-2.0.4\n",
      "Successfully installed paddle2onnx-0.6 paddlehub-2.1.0 paddleslim-1.1.1 paddlex-1.3.11 pycocotools-2.0.2 shapely-1.7.1 xlwt-1.3.0\n"
     ]
    }
   ],
   "source": [
    "! pip install paddlex -i https://mirror.baidu.com/pypi/simple"
   ]
  },
  {
   "cell_type": "markdown",
   "metadata": {
    "collapsed": false
   },
   "source": [
    "## 2.GPU设置、包引入"
   ]
  },
  {
   "cell_type": "code",
   "execution_count": 2,
   "metadata": {
    "collapsed": false
   },
   "outputs": [
    {
     "name": "stderr",
     "output_type": "stream",
     "text": [
      "/opt/conda/envs/python35-paddle120-env/lib/python3.7/site-packages/paddle/fluid/layers/utils.py:26: DeprecationWarning: `np.int` is a deprecated alias for the builtin `int`. To silence this warning, use `int` by itself. Doing this will not modify any behavior and is safe. When replacing `np.int`, you may wish to use e.g. `np.int64` or `np.int32` to specify the precision. If you wish to review your current use, check the release note link for additional information.\n",
      "Deprecated in NumPy 1.20; for more details and guidance: https://numpy.org/devdocs/release/1.20.0-notes.html#deprecations\n",
      "  def convert_to_list(value, n, name, dtype=np.int):\n"
     ]
    }
   ],
   "source": [
    "# 设置使用0号GPU卡（如无GPU，执行此代码后仍然会使用CPU训练模型）\r\n",
    "import matplotlib\r\n",
    "matplotlib.use('Agg') \r\n",
    "import os\r\n",
    "os.environ['CUDA_VISIBLE_DEVICES'] = '0'\r\n",
    "import paddlex as pdx"
   ]
  },
  {
   "cell_type": "markdown",
   "metadata": {
    "collapsed": false
   },
   "source": [
    "## 3.数据增强配置"
   ]
  },
  {
   "cell_type": "code",
   "execution_count": 3,
   "metadata": {
    "collapsed": false
   },
   "outputs": [],
   "source": [
    "\r\n",
    "from paddlex.cls import transforms\r\n",
    "train_transforms = transforms.Compose([\r\n",
    "    transforms.RandomCrop(crop_size=1440),\r\n",
    "    transforms.RandomHorizontalFlip(),\r\n",
    "    transforms.Normalize()\r\n",
    "])\r\n",
    "eval_transforms = transforms.Compose([\r\n",
    "    transforms.ResizeByShort(short_size=1444),\r\n",
    "    transforms.CenterCrop(crop_size=1440),\r\n",
    "    transforms.Normalize()\r\n",
    "])"
   ]
  },
  {
   "cell_type": "markdown",
   "metadata": {
    "collapsed": false
   },
   "source": [
    "## 4.数据集配置"
   ]
  },
  {
   "cell_type": "code",
   "execution_count": 4,
   "metadata": {
    "collapsed": false
   },
   "outputs": [
    {
     "name": "stdout",
     "output_type": "stream",
     "text": [
      "2021-06-03 23:28:20 [INFO]\tStarting to read file list from dataset...\n",
      "2021-06-03 23:28:20 [INFO]\t720 samples in file train_list.txt\n",
      "2021-06-03 23:28:20 [INFO]\tStarting to read file list from dataset...\n",
      "2021-06-03 23:28:20 [INFO]\t80 samples in file eval_list.txt\n"
     ]
    }
   ],
   "source": [
    "train_dataset = pdx.datasets.ImageNet(\r\n",
    "    data_dir='dataset/Train/fundus_image',\r\n",
    "    file_list='train_list.txt',\r\n",
    "    label_list='train_list.txt',\r\n",
    "    transforms=train_transforms,\r\n",
    "    shuffle=True)\r\n",
    "eval_dataset = pdx.datasets.ImageNet(\r\n",
    "    data_dir='dataset/Train/fundus_image',\r\n",
    "    file_list='eval_list.txt',\r\n",
    "    label_list='train_list.txt',\r\n",
    "    transforms=eval_transforms)"
   ]
  },
  {
   "cell_type": "markdown",
   "metadata": {
    "collapsed": false
   },
   "source": [
    "# 四、开始训练"
   ]
  },
  {
   "cell_type": "code",
   "execution_count": 14,
   "metadata": {
    "collapsed": false
   },
   "outputs": [
    {
     "name": "stderr",
     "output_type": "stream",
     "text": [
      "/opt/conda/envs/python35-paddle120-env/lib/python3.7/site-packages/paddle/fluid/framework.py:687: DeprecationWarning: `np.bool` is a deprecated alias for the builtin `bool`. To silence this warning, use `bool` by itself. Doing this will not modify any behavior and is safe. If you specifically wanted the numpy scalar type, use `np.bool_` here.\n",
      "Deprecated in NumPy 1.20; for more details and guidance: https://numpy.org/devdocs/release/1.20.0-notes.html#deprecations\n",
      "  elif dtype == np.bool:\n",
      "/opt/conda/envs/python35-paddle120-env/lib/python3.7/site-packages/paddle/fluid/layers/math_op_patch.py:298: UserWarning: /opt/conda/envs/python35-paddle120-env/lib/python3.7/site-packages/paddlex/cv/nets/mobilenet_v3.py:231\n",
      "The behavior of expression A * B has been unified with elementwise_mul(X, Y, axis=-1) from Paddle 2.0. If your code works well in the older versions but crashes in this version, try to use elementwise_mul(X, Y, axis=0) instead of A * B. This transitional warning will be dropped in the future.\n",
      "  op_type, op_type, EXPRESSION_MAP[method_name]))\n",
      "2021-06-03 23:28:24,730 - INFO - If regularizer of a Parameter has been set by 'fluid.ParamAttr' or 'fluid.WeightNormParamAttr' already. The Regularization[L2Decay, regularization_coeff=0.000100] in Optimizer will not take effect, and it will only be applied to other Parameters!\n"
     ]
    },
    {
     "name": "stdout",
     "output_type": "stream",
     "text": [
      "2021-06-03 23:28:25 [INFO]\tDecompressing output/mobilenetv3_small_ssld/pretrain/MobileNetV3_small_x1_0_ssld_pretrained.tar...\n",
      "2021-06-03 23:28:31 [INFO]\tLoad pretrain weights from output/mobilenetv3_small_ssld/pretrain/MobileNetV3_small_x1_0_ssld_pretrained.\n",
      "2021-06-03 23:28:31 [WARNING]\t[SKIP] Shape of pretrained weight output/mobilenetv3_small_ssld/pretrain/MobileNetV3_small_x1_0_ssld_pretrained/fc_weights doesn't match.(Pretrained: (1280, 1000), Actual: (1280, 2))\n",
      "2021-06-03 23:28:31 [WARNING]\t[SKIP] Shape of pretrained weight output/mobilenetv3_small_ssld/pretrain/MobileNetV3_small_x1_0_ssld_pretrained/fc_offset doesn't match.(Pretrained: (1000,), Actual: (2,))\n",
      "2021-06-03 23:28:31 [INFO]\tThere are 212 varaibles in output/mobilenetv3_small_ssld/pretrain/MobileNetV3_small_x1_0_ssld_pretrained are loaded.\n",
      "2021-06-03 23:28:54 [INFO]\t[TRAIN] Epoch=1/64, Step=2/22, loss=0.649601, acc1=0.625, acc2=1.0, lr=0.025, time_each_step=11.39s, eta=5:3:28\n",
      "2021-06-03 23:29:06 [INFO]\t[TRAIN] Epoch=1/64, Step=4/22, loss=0.317609, acc1=0.9375, acc2=1.0, lr=0.025, time_each_step=8.67s, eta=3:50:41\n",
      "2021-06-03 23:29:19 [INFO]\t[TRAIN] Epoch=1/64, Step=6/22, loss=0.224524, acc1=0.875, acc2=1.0, lr=0.025, time_each_step=7.98s, eta=3:32:2\n",
      "2021-06-03 23:29:32 [INFO]\t[TRAIN] Epoch=1/64, Step=8/22, loss=0.114413, acc1=1.0, acc2=1.0, lr=0.025, time_each_step=7.56s, eta=3:20:37\n",
      "2021-06-03 23:29:44 [INFO]\t[TRAIN] Epoch=1/64, Step=10/22, loss=0.360635, acc1=0.84375, acc2=1.0, lr=0.025, time_each_step=7.31s, eta=3:13:41\n",
      "2021-06-03 23:29:57 [INFO]\t[TRAIN] Epoch=1/64, Step=12/22, loss=0.049213, acc1=0.96875, acc2=1.0, lr=0.025, time_each_step=7.16s, eta=3:9:26\n",
      "2021-06-03 23:30:09 [INFO]\t[TRAIN] Epoch=1/64, Step=14/22, loss=0.018845, acc1=1.0, acc2=1.0, lr=0.025, time_each_step=6.98s, eta=3:4:27\n",
      "2021-06-03 23:30:22 [INFO]\t[TRAIN] Epoch=1/64, Step=16/22, loss=0.059076, acc1=0.9375, acc2=1.0, lr=0.025, time_each_step=6.94s, eta=3:3:17\n",
      "2021-06-03 23:30:34 [INFO]\t[TRAIN] Epoch=1/64, Step=18/22, loss=0.036548, acc1=0.96875, acc2=1.0, lr=0.025, time_each_step=6.85s, eta=3:0:35\n",
      "2021-06-03 23:30:47 [INFO]\t[TRAIN] Epoch=1/64, Step=20/22, loss=0.223548, acc1=0.9375, acc2=1.0, lr=0.025, time_each_step=6.77s, eta=2:58:15\n",
      "2021-06-03 23:30:57 [INFO]\t[TRAIN] Epoch=1/64, Step=22/22, loss=0.110934, acc1=0.96875, acc2=1.0, lr=0.025, time_each_step=6.17s, eta=2:42:11\n",
      "2021-06-03 23:30:57 [INFO]\t[TRAIN] Epoch 1 finished, loss=0.253191, acc1=0.87642, acc2=1.0, lr=0.025 .\n",
      "2021-06-03 23:30:57 [INFO]\tStart to evaluating(total_samples=80, total_steps=3)...\n"
     ]
    },
    {
     "name": "stderr",
     "output_type": "stream",
     "text": [
      "  0%|          | 0/3 [00:00<?, ?it/s]share_vars_from is set, scope is ignored.\n",
      "100%|██████████| 3/3 [00:25<00:00,  8.50s/it]\n"
     ]
    },
    {
     "name": "stdout",
     "output_type": "stream",
     "text": [
      "2021-06-03 23:31:23 [INFO]\t[EVAL] Finished, Epoch=1, acc1=0.9125, acc2=1.0 .\n",
      "2021-06-03 23:31:23 [INFO]\tModel saved in output/mobilenetv3_small_ssld/best_model.\n",
      "2021-06-03 23:31:24 [INFO]\tModel saved in output/mobilenetv3_small_ssld/epoch_1.\n",
      "2021-06-03 23:31:24 [INFO]\tCurrent evaluated best model in eval_dataset is epoch_1, acc1=0.9125\n",
      "2021-06-03 23:31:45 [INFO]\t[TRAIN] Epoch=2/64, Step=2/22, loss=0.329897, acc1=0.90625, acc2=1.0, lr=0.025, time_each_step=6.63s, eta=3:0:58\n",
      "2021-06-03 23:31:56 [INFO]\t[TRAIN] Epoch=2/64, Step=4/22, loss=0.126015, acc1=0.96875, acc2=1.0, lr=0.025, time_each_step=6.54s, eta=3:0:43\n",
      "2021-06-03 23:32:08 [INFO]\t[TRAIN] Epoch=2/64, Step=6/22, loss=0.010053, acc1=1.0, acc2=1.0, lr=0.025, time_each_step=6.49s, eta=3:0:29\n",
      "2021-06-03 23:32:20 [INFO]\t[TRAIN] Epoch=2/64, Step=8/22, loss=0.152919, acc1=0.96875, acc2=1.0, lr=0.025, time_each_step=6.44s, eta=3:0:15\n",
      "2021-06-03 23:32:31 [INFO]\t[TRAIN] Epoch=2/64, Step=10/22, loss=0.015185, acc1=1.0, acc2=1.0, lr=0.025, time_each_step=6.39s, eta=3:0:2\n",
      "2021-06-03 23:32:43 [INFO]\t[TRAIN] Epoch=2/64, Step=12/22, loss=0.106885, acc1=0.96875, acc2=1.0, lr=0.025, time_each_step=6.38s, eta=2:59:49\n",
      "2021-06-03 23:32:54 [INFO]\t[TRAIN] Epoch=2/64, Step=14/22, loss=0.11722, acc1=0.96875, acc2=1.0, lr=0.025, time_each_step=6.25s, eta=2:59:35\n",
      "2021-06-03 23:33:05 [INFO]\t[TRAIN] Epoch=2/64, Step=16/22, loss=0.0468, acc1=0.96875, acc2=1.0, lr=0.025, time_each_step=6.22s, eta=2:59:22\n",
      "2021-06-03 23:33:17 [INFO]\t[TRAIN] Epoch=2/64, Step=18/22, loss=0.026111, acc1=1.0, acc2=1.0, lr=0.025, time_each_step=6.21s, eta=2:59:10\n",
      "2021-06-03 23:33:29 [INFO]\t[TRAIN] Epoch=2/64, Step=20/22, loss=0.101425, acc1=0.96875, acc2=1.0, lr=0.025, time_each_step=6.26s, eta=2:58:58\n",
      "2021-06-03 23:33:39 [INFO]\t[TRAIN] Epoch=2/64, Step=22/22, loss=0.039483, acc1=1.0, acc2=1.0, lr=0.025, time_each_step=5.69s, eta=2:58:45\n",
      "2021-06-03 23:33:39 [INFO]\t[TRAIN] Epoch 2 finished, loss=0.123476, acc1=0.960227, acc2=1.0, lr=0.025 .\n",
      "2021-06-03 23:33:39 [INFO]\tStart to evaluating(total_samples=80, total_steps=3)...\n"
     ]
    },
    {
     "name": "stderr",
     "output_type": "stream",
     "text": [
      "100%|██████████| 3/3 [00:22<00:00,  7.58s/it]\n"
     ]
    },
    {
     "name": "stdout",
     "output_type": "stream",
     "text": [
      "2021-06-03 23:34:02 [INFO]\t[EVAL] Finished, Epoch=2, acc1=0.975, acc2=1.0 .\n",
      "2021-06-03 23:34:02 [INFO]\tModel saved in output/mobilenetv3_small_ssld/best_model.\n",
      "2021-06-03 23:34:02 [INFO]\tModel saved in output/mobilenetv3_small_ssld/epoch_2.\n",
      "2021-06-03 23:34:02 [INFO]\tCurrent evaluated best model in eval_dataset is epoch_2, acc1=0.975\n",
      "2021-06-03 23:34:22 [INFO]\t[TRAIN] Epoch=3/64, Step=2/22, loss=0.04672, acc1=1.0, acc2=1.0, lr=0.025, time_each_step=6.1s, eta=2:43:32\n",
      "2021-06-03 23:34:33 [INFO]\t[TRAIN] Epoch=3/64, Step=4/22, loss=0.068644, acc1=0.96875, acc2=1.0, lr=0.025, time_each_step=6.09s, eta=2:43:20\n",
      "2021-06-03 23:34:45 [INFO]\t[TRAIN] Epoch=3/64, Step=6/22, loss=0.016702, acc1=1.0, acc2=1.0, lr=0.025, time_each_step=6.09s, eta=2:43:7\n",
      "2021-06-03 23:34:56 [INFO]\t[TRAIN] Epoch=3/64, Step=8/22, loss=0.020491, acc1=1.0, acc2=1.0, lr=0.025, time_each_step=6.07s, eta=2:42:55\n",
      "2021-06-03 23:35:08 [INFO]\t[TRAIN] Epoch=3/64, Step=10/22, loss=0.006912, acc1=1.0, acc2=1.0, lr=0.025, time_each_step=6.07s, eta=2:42:43\n",
      "2021-06-03 23:35:19 [INFO]\t[TRAIN] Epoch=3/64, Step=12/22, loss=0.149574, acc1=0.9375, acc2=1.0, lr=0.025, time_each_step=6.07s, eta=2:42:31\n",
      "2021-06-03 23:35:30 [INFO]\t[TRAIN] Epoch=3/64, Step=14/22, loss=0.062328, acc1=0.96875, acc2=1.0, lr=0.025, time_each_step=6.05s, eta=2:42:18\n",
      "2021-06-03 23:35:41 [INFO]\t[TRAIN] Epoch=3/64, Step=16/22, loss=0.015323, acc1=1.0, acc2=1.0, lr=0.025, time_each_step=5.99s, eta=2:42:6\n",
      "2021-06-03 23:35:53 [INFO]\t[TRAIN] Epoch=3/64, Step=18/22, loss=0.14707, acc1=0.9375, acc2=1.0, lr=0.025, time_each_step=6.01s, eta=2:41:54\n",
      "2021-06-03 23:36:04 [INFO]\t[TRAIN] Epoch=3/64, Step=20/22, loss=0.177398, acc1=0.90625, acc2=1.0, lr=0.025, time_each_step=6.11s, eta=2:41:42\n",
      "2021-06-03 23:36:13 [INFO]\t[TRAIN] Epoch=3/64, Step=22/22, loss=0.052889, acc1=0.96875, acc2=1.0, lr=0.025, time_each_step=5.58s, eta=2:41:30\n",
      "2021-06-03 23:36:13 [INFO]\t[TRAIN] Epoch 3 finished, loss=0.075184, acc1=0.965909, acc2=1.0, lr=0.025 .\n",
      "2021-06-03 23:36:13 [INFO]\tStart to evaluating(total_samples=80, total_steps=3)...\n"
     ]
    },
    {
     "name": "stderr",
     "output_type": "stream",
     "text": [
      "100%|██████████| 3/3 [00:26<00:00,  8.80s/it]\n"
     ]
    },
    {
     "name": "stdout",
     "output_type": "stream",
     "text": [
      "2021-06-03 23:36:40 [INFO]\t[EVAL] Finished, Epoch=3, acc1=0.9875, acc2=1.0 .\n",
      "2021-06-03 23:36:40 [INFO]\tModel saved in output/mobilenetv3_small_ssld/best_model.\n",
      "2021-06-03 23:36:41 [INFO]\tModel saved in output/mobilenetv3_small_ssld/epoch_3.\n",
      "2021-06-03 23:36:41 [INFO]\tCurrent evaluated best model in eval_dataset is epoch_3, acc1=0.9875\n"
     ]
    }
   ],
   "source": [
    "model = pdx.cls.MobileNetV3_small_ssld(num_classes=2)\r\n",
    "model.train(num_epochs=64,\r\n",
    "            train_dataset=train_dataset,\r\n",
    "            train_batch_size=32,\r\n",
    "            eval_dataset=eval_dataset,\r\n",
    "            lr_decay_epochs=[4, 6, 8],\r\n",
    "            save_interval_epochs=1,\r\n",
    "            learning_rate=0.025,\r\n",
    "            save_dir='output/mobilenetv3_small_ssld',\r\n",
    "            # resume_checkpoint='output/mobilenetv3_small_ssld/epoch_18',\r\n",
    "            use_vdl=True)"
   ]
  },
  {
   "cell_type": "markdown",
   "metadata": {
    "collapsed": false
   },
   "source": [
    "# 五、开始预测"
   ]
  },
  {
   "cell_type": "code",
   "execution_count": 1,
   "metadata": {
    "collapsed": false
   },
   "outputs": [
    {
     "ename": "ModuleNotFoundError",
     "evalue": "No module named 'paddlex'",
     "output_type": "error",
     "traceback": [
      "\u001b[0;31m---------------------------------------------------------------------------\u001b[0m",
      "\u001b[0;31mModuleNotFoundError\u001b[0m                       Traceback (most recent call last)",
      "\u001b[0;32m<ipython-input-1-66560d19a88d>\u001b[0m in \u001b[0;36m<module>\u001b[0;34m\u001b[0m\n\u001b[1;32m      4\u001b[0m \u001b[0;32mimport\u001b[0m \u001b[0mos\u001b[0m\u001b[0;34m\u001b[0m\u001b[0;34m\u001b[0m\u001b[0m\n\u001b[1;32m      5\u001b[0m \u001b[0mos\u001b[0m\u001b[0;34m.\u001b[0m\u001b[0menviron\u001b[0m\u001b[0;34m[\u001b[0m\u001b[0;34m'CUDA_VISIBLE_DEVICES'\u001b[0m\u001b[0;34m]\u001b[0m \u001b[0;34m=\u001b[0m \u001b[0;34m'0'\u001b[0m\u001b[0;34m\u001b[0m\u001b[0;34m\u001b[0m\u001b[0m\n\u001b[0;32m----> 6\u001b[0;31m \u001b[0;32mimport\u001b[0m \u001b[0mpaddlex\u001b[0m \u001b[0;32mas\u001b[0m \u001b[0mpdx\u001b[0m\u001b[0;34m\u001b[0m\u001b[0;34m\u001b[0m\u001b[0m\n\u001b[0m",
      "\u001b[0;31mModuleNotFoundError\u001b[0m: No module named 'paddlex'"
     ]
    }
   ],
   "source": [
    "# 设置使用0号GPU卡（如无GPU，执行此代码后仍然会使用CPU训练模型）\r\n",
    "import matplotlib\r\n",
    "matplotlib.use('Agg') \r\n",
    "import os\r\n",
    "os.environ['CUDA_VISIBLE_DEVICES'] = '0'\r\n",
    "import paddlex as pdx"
   ]
  },
  {
   "cell_type": "code",
   "execution_count": 23,
   "metadata": {
    "collapsed": false
   },
   "outputs": [],
   "source": [
    "# 预测数据集val_list\r\n",
    "val_list=[]\r\n",
    "for i in range(1,401,1):\r\n",
    "# for i in range(1,201,1):\r\n",
    "    filename='T'+ str(i).zfill(4)+'.jpg'\r\n",
    "    # print(filename)\r\n",
    "    val_list.append(filename+'\\n')\r\n",
    "\r\n",
    "with open('val_list.txt','w') as f:\r\n",
    "    f.writelines(val_list)\r\n",
    "    \r\n",
    "val_list=[]\r\n",
    "with open('val_list.txt', 'r') as f:\r\n",
    "    for line in f:\r\n",
    "        line='dataset/PALM-Testing400-Images/'+line\r\n",
    "        val_list.append(line.split('\\n')[0])\r\n",
    "        # print(line.split('\\n')[0])\r\n",
    "# print(val_list)"
   ]
  },
  {
   "cell_type": "code",
   "execution_count": 24,
   "metadata": {
    "collapsed": false
   },
   "outputs": [],
   "source": [
    "print(len(val_list))"
   ]
  },
  {
   "cell_type": "code",
   "execution_count": 25,
   "metadata": {
    "collapsed": false
   },
   "outputs": [],
   "source": [
    "import paddlex as pdx\r\n",
    "\r\n",
    "result_list=[]\r\n",
    "model = pdx.load_model('output/mobilenetv3_small_ssld/best_model')\r\n",
    "for image_name in val_list:\r\n",
    "    result = model.predict(image_name, topk=2)\r\n",
    "    result_list.append(result)\r\n",
    "    print(\"Predict Result:\", result)"
   ]
  },
  {
   "cell_type": "markdown",
   "metadata": {
    "collapsed": false
   },
   "source": [
    "## 构造pandas dataframe"
   ]
  },
  {
   "cell_type": "code",
   "execution_count": 27,
   "metadata": {
    "collapsed": false
   },
   "outputs": [],
   "source": [
    "# 结果列\r\n",
    "pd_B=[]\r\n",
    "for item in result_list:\r\n",
    "    # print(item)\r\n",
    "    if item[0]['category_id']==1:\r\n",
    "        pd_B.append(item[0]['score'])\r\n",
    "    else:\r\n",
    "        pd_B.append(item[1]['score'])\r\n",
    "\r\n",
    "# 文件名列\r\n",
    "pd_A=[]\r\n",
    "with open('val_list.txt', 'r') as f:\r\n",
    "    for line in f:\r\n",
    "        pd_A.append(line.split('\\n')[0])\r\n",
    "        # print(line.split('\\n')[0])\r\n",
    "\r\n",
    "import pandas as pd\r\n",
    "df= pd.DataFrame({'FileName': pd_A, 'PM Risk':pd_B})\r\n",
    "\r\n",
    "# 保存为提交文件\r\n",
    "df.to_csv(\"Classification_Results.csv\", index=None)"
   ]
  },
  {
   "cell_type": "markdown",
   "metadata": {
    "collapsed": false
   },
   "source": [
    "## 打压缩包下载提交"
   ]
  },
  {
   "cell_type": "code",
   "execution_count": null,
   "metadata": {
    "collapsed": false
   },
   "outputs": [],
   "source": [
    "!zip -q Classification_Results.zip Classification_Results.csv"
   ]
  }
 ],
 "metadata": {
  "kernelspec": {
   "display_name": "PaddlePaddle 2.0.0b0 (Python 3.5)",
   "language": "python",
   "name": "py35-paddle1.2.0"
  },
  "language_info": {
   "codemirror_mode": {
    "name": "ipython",
    "version": 3
   },
   "file_extension": ".py",
   "mimetype": "text/x-python",
   "name": "python",
   "nbconvert_exporter": "python",
   "pygments_lexer": "ipython3",
   "version": "3.7.4"
  }
 },
 "nbformat": 4,
 "nbformat_minor": 1
}
